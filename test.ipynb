{
 "cells": [
  {
   "cell_type": "markdown",
   "metadata": {},
   "source": [
    "### Hi, I'm Chris 👋\n",
    "\n",
    "I have worked as an engineer on telecommunications infrastructure, \n",
    "\n",
    "<!--\n",
    "**rickardc/rickardc** is a ✨ _special_ ✨ repository because its `README.md` (this file) appears on your GitHub profile.\n",
    "\n",
    "Here are some ideas to get you started:\n",
    "\n",
    "- 🔭 I’m currently working on ...\n",
    "- 🌱 I’m currently learning ...\n",
    "- 👯 I’m looking to collaborate on ...\n",
    "- 🤔 I’m looking for help with ...\n",
    "- 💬 Ask me about ...\n",
    "- 📫 How to reach me: ...\n",
    "- 😄 Pronouns: ...\n",
    "- ⚡ Fun fact: ...\n",
    "-->\n",
    "\n",
    "## Technical Certifications\n",
    "\n",
    "These are some of my Cloud Certifications. \n",
    "\n",
    "|[**AWS Certified Cloud Practitioner**](https://www.credly.com/badges/b7232518-e858-4961-81fc-32be8077ccb9/public_url)|\n",
    "|:---:|\n",
    "|![DP100](https://github.com/rickardc/rickardc/blob/main/assets/aws-certified-cloud-practitioner.png)|"
   ]
  },
  {
   "cell_type": "markdown",
   "metadata": {},
   "source": [
    "<table>\n",
    "    <tr>\n",
    "        <td>\n",
    "            <a href=\"https://www.credly.com/badges/b7232518-e858-4961-81fc-32be8077ccb9/public_url\">test</a>\n",
    "        </td>\n",
    "    </tr>\n",
    "</table>"
   ]
  },
  {
   "cell_type": "markdown",
   "metadata": {},
   "source": [
    "<table>\n",
    "    <tr>\n",
    "        <td>\n",
    "            <a href=\"https://www.credly.com/badges/b7232518-e858-4961-81fc-32be8077ccb9/public_url\"></a>\n",
    "        </td>\n",
    "    </tr>\n",
    "    <!-- -->\n",
    "    <tr>\n",
    "        <td>\n",
    "            <img src=\"https://github.com/rickardc/rickardc/blob/main/assets/aws-certified-cloud-practitioner.png\">\n",
    "        </td>\n",
    "    </tr>\n",
    "\n",
    "</table>"
   ]
  }
 ],
 "metadata": {
  "kernelspec": {
   "display_name": "base",
   "language": "python",
   "name": "python3"
  },
  "language_info": {
   "codemirror_mode": {
    "name": "ipython",
    "version": 3
   },
   "file_extension": ".py",
   "mimetype": "text/x-python",
   "name": "python",
   "nbconvert_exporter": "python",
   "pygments_lexer": "ipython3",
   "version": "3.9.16"
  },
  "orig_nbformat": 4
 },
 "nbformat": 4,
 "nbformat_minor": 2
}
